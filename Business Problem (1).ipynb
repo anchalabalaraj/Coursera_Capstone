{
 "cells": [
  {
   "cell_type": "markdown",
   "id": "7a74229f",
   "metadata": {},
   "source": [
    "# Peer-graded Assignment: Capstone Project - The Battle of Neighborhoods (PART-1)\n"
   ]
  },
  {
   "cell_type": "markdown",
   "id": "de4c7635",
   "metadata": {},
   "source": [
    "## INTRODUCTION"
   ]
  },
  {
   "cell_type": "markdown",
   "id": "b8f3a9b9",
   "metadata": {},
   "source": [
    "### BACKGROUND\n",
    "\n",
    "\n",
    "\n",
    "In growing regions - it is a challange to know where it is appropriate to start a business, let alone what business to start. In this report we will be exploring the need for additional restaurants as in Toronto.\n",
    "The goal is to inform potential business owners who are looking to expand in new areas. After pulling the data for these respective city - we will have an ability to provide a recommendation.We will be using several data visualization techniques, in particular, we will be making use of Foursquare API to retrieve location data for the state of Toronto in Canada and use this data to perform data analysis.\n",
    "\n"
   ]
  },
  {
   "cell_type": "markdown",
   "id": "9b5026a8",
   "metadata": {},
   "source": [
    "### PROBLEM\n",
    "Prior launching any restaurant, it’s important to know if the business as a good opportunity. In order to do so, this report will try to gather data about other restaurant localization, competitors and best localization.\n",
    "For an entrepeurneur to open a new restaurant in the neighbourhood in Toronto then what neighbourhood should he/she choose based on the type of Cuisine.And if they have specific type in mind then which location would be better ensuring a good amount of customer traffic but also keeping in mind the nearby tourist spots they can visit which makes it easier for business person to choose the right neighbourhood for their restaurant.\n"
   ]
  },
  {
   "cell_type": "markdown",
   "id": "2dd97828",
   "metadata": {},
   "source": [
    "### INTEREST\n",
    "This analysis will be useful for those   who want to start a new bussiness in the state of Toronto.It also aims on helping those who want to travel to Toronto and want to visit global Cuisine restaurants in Toronto.Clusters tell us what neighbourhoods are fairly similar to each other so the person can skip travelling to many of the same neighbourhoods."
   ]
  }
 ],
 "metadata": {
  "kernelspec": {
   "display_name": "Python 3",
   "language": "python",
   "name": "python3"
  },
  "language_info": {
   "codemirror_mode": {
    "name": "ipython",
    "version": 3
   },
   "file_extension": ".py",
   "mimetype": "text/x-python",
   "name": "python",
   "nbconvert_exporter": "python",
   "pygments_lexer": "ipython3",
   "version": "3.8.8"
  }
 },
 "nbformat": 4,
 "nbformat_minor": 5
}
