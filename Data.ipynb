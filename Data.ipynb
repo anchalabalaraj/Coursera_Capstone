{
 "cells": [
  {
   "cell_type": "markdown",
   "id": "5b1d44ca",
   "metadata": {},
   "source": [
    "# DATA  "
   ]
  },
  {
   "cell_type": "markdown",
   "id": "78bfe8c2",
   "metadata": {},
   "source": [
    "# Data Aquistion and Cleaning:\n",
    "In order to gain information ,we will use 'Foursquare API' locational information.Foursqaure is location data provider with the information about all manner of venues and events within an are of interest.Such information includes venue names and location and photo.The foursquare location platform will be used as the sole data sourse all the stated required information can be obtained through the API.\n",
    "\n",
    "We  connect the Foursquare API to gather information about the various venues  inside each  and every neighbourhood.The data retreived from Foursquare contained information of venues within a specified distance of longitude and latitude of the postcodes.We aquire the data about various neighbourhoods ,boroughs and postal codes from Wikipedia page using Beautiful Soup ,we put it into a data frame.Pandas is used to read the longitudes and latitudes in the CSV file.We make Foursquare API calls using our crendentials to aquire the location data.\n",
    "\n",
    "We can combine rows that have same postal code and make them into a single row and neighbourhoods that are associated with that postal code would be put into the same row separated by commas.We sort data buy the postal codes.\n",
    "\n",
    "### Feature Selection\n",
    "We focus on the neighbourhood in Toronto.So drop all rows that have Borough outside of Toronto.And our dataframe is ready to use.\n",
    "\n",
    "\n",
    "### Exploratory Data Analysis :\n",
    "We can visualise the various neighbourhoods in Canada by drawing a  map and plotting the neighbourhoods on top.This allows us to see what we are dealing with and  how they are scattered.We an now find various venues present in the neighbourhood in Toronto by exploring any one neighbourhood .\n",
    "Similarly ,we can explore other neighbourhoods and this information can be very useful for potential business owner wanting to start a new business in any of the neighbourhoods."
   ]
  },
  {
   "cell_type": "code",
   "execution_count": null,
   "id": "0317284f",
   "metadata": {},
   "outputs": [],
   "source": []
  }
 ],
 "metadata": {
  "kernelspec": {
   "display_name": "Python 3",
   "language": "python",
   "name": "python3"
  },
  "language_info": {
   "codemirror_mode": {
    "name": "ipython",
    "version": 3
   },
   "file_extension": ".py",
   "mimetype": "text/x-python",
   "name": "python",
   "nbconvert_exporter": "python",
   "pygments_lexer": "ipython3",
   "version": "3.8.8"
  }
 },
 "nbformat": 4,
 "nbformat_minor": 5
}
